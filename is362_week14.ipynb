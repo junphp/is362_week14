{
 "cells": [
  {
   "cell_type": "markdown",
   "metadata": {},
   "source": [
    "## Walmart"
   ]
  },
  {
   "cell_type": "markdown",
   "metadata": {},
   "source": [
    "The recommender system that I have chooses for this discussion is the Walmart recommendation system."
   ]
  },
  {
   "cell_type": "markdown",
   "metadata": {},
   "source": [
    "1.Who are your target users?"
   ]
  },
  {
   "cell_type": "markdown",
   "metadata": {},
   "source": [
    "Walmart being a family friendly store which is meeting the needs of all its customers/ available on online and offline"
   ]
  },
  {
   "cell_type": "markdown",
   "metadata": {},
   "source": [
    "2.What are their key goals?"
   ]
  },
  {
   "cell_type": "markdown",
   "metadata": {},
   "source": [
    "The place where people can come to find their needs and discover anything they might want to buy with best cheap price"
   ]
  },
  {
   "cell_type": "markdown",
   "metadata": {},
   "source": [
    "3.How can you help them accomplish those goals?"
   ]
  },
  {
   "cell_type": "markdown",
   "metadata": {},
   "source": [
    "The three basic elements that human beings need to live in. like food, clothing and shelter.\n",
    "Amazon and Walmart have entered the apparel, fashion and food industries, respectively. However, in terms of 'shelter', Amazon has weapons but Walmart does not have it. Considering commerce activity in the house rather than the concept of a residential house, Amazon has already built an ecosystem in the house through eco and dash series. Amazon already has hardware and platforms to build smart homes. Wal-Mart still has no related items. So I want to help this side of Walmart.\n"
   ]
  },
  {
   "cell_type": "markdown",
   "metadata": {},
   "source": [
    "Reverse Engineering:"
   ]
  },
  {
   "cell_type": "markdown",
   "metadata": {},
   "source": [
    "For example, Amazon web service accounts is for more than half of the total Amazon revenue. Google and Facebook seem to look like search engines and social media, but in financial statements they earn 95% of their revenue from advertising. In Front-end, they are an e-commerce company, so positioned as a logistics company in the inside, but they are a thorough data company in the back-end. I think Wal-Mart should benchmark these Amazon AWS services. "
   ]
  },
  {
   "cell_type": "markdown",
   "metadata": {},
   "source": [
    "Improvements:"
   ]
  },
  {
   "cell_type": "markdown",
   "metadata": {},
   "source": [
    "Drones are essential to mention Amazon's innovation. The drones are inexpensive and fast delivery. Supply chain drones are also under development to move between household drones and logistics centers that can be delivered to the home. Considering the lack of an off-line base, it carries the expected items on a huge airship. It is the drones that deliver goods from an airship. It also holds a patent on the delivery method of dropping the goods from the drones with folding wings to the parachute at a certain height. In recent years, it has been reported that the US has applied for the following type of drone delivery patent to the United States Patent and Trademark Office for delivery of drones in urban areas. "
   ]
  },
  {
   "cell_type": "markdown",
   "metadata": {},
   "source": [
    "I heard Walmart also trying to use the drones but I think they need to more invest on drone’s delivery system like Amazon."
   ]
  },
  {
   "cell_type": "code",
   "execution_count": null,
   "metadata": {
    "collapsed": true
   },
   "outputs": [],
   "source": []
  }
 ],
 "metadata": {
  "kernelspec": {
   "display_name": "Python 3",
   "language": "python",
   "name": "python3"
  },
  "language_info": {
   "codemirror_mode": {
    "name": "ipython",
    "version": 3
   },
   "file_extension": ".py",
   "mimetype": "text/x-python",
   "name": "python",
   "nbconvert_exporter": "python",
   "pygments_lexer": "ipython3",
   "version": "3.5.4"
  }
 },
 "nbformat": 4,
 "nbformat_minor": 2
}
